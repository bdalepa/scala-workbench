{
 "cells": [
  {
   "cell_type": "markdown",
   "metadata": {},
   "source": [
    "# Test Spark Kernel\n",
    "\n",
    "In this simple test, we want the following output to be ```100```.  If the output does not appear, you may need to ensure your ```/opt/conda/share/jupyter/kernels/scala/kernel.json``` file is pointed to a valid Spark Master."
   ]
  },
  {
   "cell_type": "code",
   "execution_count": null,
   "metadata": {
    "collapsed": false
   },
   "outputs": [],
   "source": [
    "println( sc.parallelize(1 to 100).count())"
   ]
  }
 ],
 "metadata": {
  "kernelspec": {
   "display_name": "Scala 2.10.4 with v1.1.0 IBM z/OS Platform for Apache Spark",
   "language": "scala",
   "name": "scala"
  },
  "language_info": {
   "name": "scala"
  }
 },
 "nbformat": 4,
 "nbformat_minor": 0
}
